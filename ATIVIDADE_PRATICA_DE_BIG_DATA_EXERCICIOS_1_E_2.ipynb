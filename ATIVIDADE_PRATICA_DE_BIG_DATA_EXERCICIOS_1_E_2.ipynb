{
  "nbformat": 4,
  "nbformat_minor": 0,
  "metadata": {
    "colab": {
      "provenance": []
    },
    "kernelspec": {
      "name": "python3",
      "display_name": "Python 3"
    },
    "language_info": {
      "name": "python"
    }
  },
  "cells": [
    {
      "cell_type": "code",
      "source": [
        "#Variavel com RU\n",
        "ru = 3727967"
      ],
      "metadata": {
        "id": "wcz9NFHdfyeG"
      },
      "execution_count": null,
      "outputs": []
    },
    {
      "cell_type": "code",
      "source": [
        "# importar o arquivo diretamente de seu google drive\n",
        "from google.colab import drive\n",
        "drive.mount('/content/drive')"
      ],
      "metadata": {
        "id": "a-xwsk3zG-j_",
        "colab": {
          "base_uri": "https://localhost:8080/"
        },
        "outputId": "be02afa4-674b-43be-ad6e-a4e4badfe7bf"
      },
      "execution_count": null,
      "outputs": [
        {
          "output_type": "stream",
          "name": "stdout",
          "text": [
            "Drive already mounted at /content/drive; to attempt to forcibly remount, call drive.mount(\"/content/drive\", force_remount=True).\n"
          ]
        }
      ]
    },
    {
      "cell_type": "code",
      "source": [
        "#A primeira linha instala o Java 8 na maquina da sessão\n",
        "#A segunda faz o download do spark no link escolhido\n",
        "#A terceira extrai o arquivo baixado\n",
        "\n",
        "!apt-get install openjdk-8-jdk-headless -qq > /dev/null\n",
        "!wget -q https://dlcdn.apache.org/spark/spark-3.4.0/spark-3.4.0-bin-hadoop3.tgz\n",
        "!tar xf spark-3.4.0-bin-hadoop3.tgz"
      ],
      "metadata": {
        "id": "1SWj7KdZI9iy"
      },
      "execution_count": null,
      "outputs": []
    },
    {
      "cell_type": "code",
      "source": [
        "#E a quarta instala a biblioteca findspark para facilitar na criação da sessão spark\n",
        "\n",
        "!pip install -q findspark"
      ],
      "metadata": {
        "id": "dDtSTrSxJWP_"
      },
      "execution_count": null,
      "outputs": []
    },
    {
      "cell_type": "code",
      "source": [
        "#Agora iremos utilizar o código abaixo para configurar as variáveis de caminho de ambiente utilizando a biblioteca \"os\"\n",
        "\n",
        "import os\n",
        "\n",
        "os.environ[\"JAVA_HOME\"] = \"/usr/lib/jvm/java-8-openjdk-amd64\"\n",
        "os.environ[\"SPARK_HOME\"] = \"/content/spark-3.4.0-bin-hadoop3\""
      ],
      "metadata": {
        "id": "JIAJWsMlJlhk"
      },
      "execution_count": null,
      "outputs": []
    },
    {
      "cell_type": "code",
      "source": [
        "#criando uma copia do dataframe na minha pasta drive\n",
        "!cp /content/drive/MyDrive/Colab_Notebooks/imdb-reviews-pt-br.csv /content"
      ],
      "metadata": {
        "id": "nhiyZ3XHUjTM"
      },
      "execution_count": null,
      "outputs": []
    },
    {
      "cell_type": "code",
      "source": [
        "#importando e iniciando o findspark e importando o sparksession\n",
        "import findspark\n",
        "\n",
        "findspark.init()\n",
        "\n",
        "from pyspark.sql import SparkSession"
      ],
      "metadata": {
        "id": "gPOg7472Jyh7"
      },
      "execution_count": null,
      "outputs": []
    },
    {
      "cell_type": "code",
      "source": [
        "#criando a sessao\n",
        "spark = SparkSession.builder.master(\"local[*]\").getOrCreate()"
      ],
      "metadata": {
        "id": "imUzfBzNJ0tr"
      },
      "execution_count": null,
      "outputs": []
    },
    {
      "cell_type": "markdown",
      "source": [
        "# **Prática 01 – Somatório de IDs. RU - 3727967**\n",
        "**Qual o valor da soma de todos os campos “id” dos filmes classificados como negativos para o banco de dados “imdb-reviews-pt-br.csv”**\n"
      ],
      "metadata": {
        "id": "MAAoG8772G4o"
      }
    },
    {
      "cell_type": "code",
      "source": [
        "#carregando o conjunto de dados\n",
        "df = spark.read.csv(\"imdb-reviews-pt-br.csv\", header=True,quote=\"\\\"\", escape=\"\\\"\", encoding=\"UTF-8\")"
      ],
      "metadata": {
        "id": "bebQI5jbVDpJ"
      },
      "execution_count": null,
      "outputs": []
    },
    {
      "cell_type": "code",
      "source": [
        "#mostrando as 20 primeiras linhas\n",
        "df.show()"
      ],
      "metadata": {
        "id": "niHK2Or1VDnG",
        "colab": {
          "base_uri": "https://localhost:8080/"
        },
        "outputId": "909aae41-2ad5-470d-c95b-826581994497"
      },
      "execution_count": null,
      "outputs": [
        {
          "output_type": "stream",
          "name": "stdout",
          "text": [
            "+---+--------------------+--------------------+---------+\n",
            "| id|             text_en|             text_pt|sentiment|\n",
            "+---+--------------------+--------------------+---------+\n",
            "|  1|Once again Mr. Co...|Mais uma vez, o S...|      neg|\n",
            "|  2|This is an exampl...|Este é um exemplo...|      neg|\n",
            "|  3|First of all I ha...|Primeiro de tudo ...|      neg|\n",
            "|  4|Not even the Beat...|Nem mesmo os Beat...|      neg|\n",
            "|  5|Brass pictures mo...|Filmes de fotos d...|      neg|\n",
            "|  6|A funny thing hap...|Uma coisa engraça...|      neg|\n",
            "|  7|This German horro...|Este filme de ter...|      neg|\n",
            "|  8|Being a long-time...|Sendo um fã de lo...|      neg|\n",
            "|  9|\"Tokyo Eyes\" tell...|\"Tokyo Eyes\" fala...|      neg|\n",
            "| 10|Wealthy horse ran...|Fazendeiros ricos...|      neg|\n",
            "| 11|Cage plays a drun...|Cage interpreta u...|      neg|\n",
            "| 12|First of all, I w...|Primeiro de tudo,...|      neg|\n",
            "| 13|So tell me - what...|Então me diga - q...|      neg|\n",
            "| 14|A big disappointm...|Uma grande decepç...|      neg|\n",
            "| 15|This film is abso...|Este filme é abso...|      neg|\n",
            "| 16|Heres a decidedly...|Heres um decidida...|      neg|\n",
            "| 17|At the bottom end...|Na parte inferior...|      neg|\n",
            "| 18|Earth has been de...|A terra foi destr...|      neg|\n",
            "| 19|Many people are s...|Muitas pessoas es...|      neg|\n",
            "| 20|New York family i...|A família de Nova...|      neg|\n",
            "+---+--------------------+--------------------+---------+\n",
            "only showing top 20 rows\n",
            "\n"
          ]
        }
      ]
    },
    {
      "cell_type": "code",
      "source": [
        "#print do schema\n",
        "df.printSchema()"
      ],
      "metadata": {
        "id": "HGB14JUnxfW4",
        "colab": {
          "base_uri": "https://localhost:8080/"
        },
        "outputId": "6acf69c8-338b-4c5f-dbea-3f64ea7e7a11"
      },
      "execution_count": null,
      "outputs": [
        {
          "output_type": "stream",
          "name": "stdout",
          "text": [
            "root\n",
            " |-- id: string (nullable = true)\n",
            " |-- text_en: string (nullable = true)\n",
            " |-- text_pt: string (nullable = true)\n",
            " |-- sentiment: string (nullable = true)\n",
            "\n"
          ]
        }
      ]
    },
    {
      "cell_type": "code",
      "source": [
        "#confirmando o tipo do dataframe\n",
        "type(df)"
      ],
      "metadata": {
        "id": "VmooMZWYsWLx",
        "colab": {
          "base_uri": "https://localhost:8080/"
        },
        "outputId": "08e67a4f-21e0-4459-ff88-f018773bed41"
      },
      "execution_count": null,
      "outputs": [
        {
          "output_type": "execute_result",
          "data": {
            "text/plain": [
              "pyspark.sql.dataframe.DataFrame"
            ]
          },
          "metadata": {},
          "execution_count": 48
        }
      ]
    },
    {
      "cell_type": "code",
      "source": [
        "#contando  as linhas do conjunto de dados\n",
        "df.count()"
      ],
      "metadata": {
        "id": "PzCMoTMAxxZJ",
        "colab": {
          "base_uri": "https://localhost:8080/"
        },
        "outputId": "aec767a1-c152-4508-c348-04f93476c872"
      },
      "execution_count": null,
      "outputs": [
        {
          "output_type": "execute_result",
          "data": {
            "text/plain": [
              "49459"
            ]
          },
          "metadata": {},
          "execution_count": 49
        }
      ]
    },
    {
      "cell_type": "code",
      "source": [
        "# importando os métodos com funções para transformações de variáveis\n",
        "from pyspark.sql.functions import *"
      ],
      "metadata": {
        "id": "vqNAEtb9w7dG"
      },
      "execution_count": null,
      "outputs": []
    },
    {
      "cell_type": "code",
      "source": [
        "#Transformando a coluna id em integer.\n",
        "print(f\"Meu RU: {ru}\")\n",
        "df = df.withColumn(\n",
        "    colName = 'id', \n",
        "    col = regexp_replace('id','','').cast('int')\n",
        "    )\n",
        "\n",
        "# printando o resultado\n",
        "df.select('id').printSchema()"
      ],
      "metadata": {
        "id": "HRB3c2TPwxNt",
        "colab": {
          "base_uri": "https://localhost:8080/"
        },
        "outputId": "0fd6faa5-19d9-4685-f593-0bf91f86fa0c"
      },
      "execution_count": null,
      "outputs": [
        {
          "output_type": "stream",
          "name": "stdout",
          "text": [
            "Meu RU: 3727967\n",
            "root\n",
            " |-- id: integer (nullable = true)\n",
            "\n"
          ]
        }
      ]
    },
    {
      "cell_type": "code",
      "source": [
        "#Criando variavel apenas com coluna id e sentiment\n",
        "df_Select = df.select('id','sentiment')"
      ],
      "metadata": {
        "id": "s3JfdcK2zitn"
      },
      "execution_count": null,
      "outputs": []
    },
    {
      "cell_type": "code",
      "source": [
        "#Mostrando o resultado\n",
        "print(f\"Meu RU: {ru}\")\n",
        "df_Select.show()"
      ],
      "metadata": {
        "id": "XLFTItgZzzTg",
        "colab": {
          "base_uri": "https://localhost:8080/"
        },
        "outputId": "83d7a76a-e048-4c1c-f39b-3b5d5b8b031d"
      },
      "execution_count": null,
      "outputs": [
        {
          "output_type": "stream",
          "name": "stdout",
          "text": [
            "Meu RU: 3727967\n",
            "+---+---------+\n",
            "| id|sentiment|\n",
            "+---+---------+\n",
            "|  1|      neg|\n",
            "|  2|      neg|\n",
            "|  3|      neg|\n",
            "|  4|      neg|\n",
            "|  5|      neg|\n",
            "|  6|      neg|\n",
            "|  7|      neg|\n",
            "|  8|      neg|\n",
            "|  9|      neg|\n",
            "| 10|      neg|\n",
            "| 11|      neg|\n",
            "| 12|      neg|\n",
            "| 13|      neg|\n",
            "| 14|      neg|\n",
            "| 15|      neg|\n",
            "| 16|      neg|\n",
            "| 17|      neg|\n",
            "| 18|      neg|\n",
            "| 19|      neg|\n",
            "| 20|      neg|\n",
            "+---+---------+\n",
            "only showing top 20 rows\n",
            "\n"
          ]
        }
      ]
    },
    {
      "cell_type": "code",
      "source": [
        "#Filtrando por sentiment = neg\n",
        "df_Neg = df_Select.where('sentiment == \"neg\" ')\n"
      ],
      "metadata": {
        "id": "VHX3UrCS0fGW"
      },
      "execution_count": null,
      "outputs": []
    },
    {
      "cell_type": "code",
      "source": [
        "#Mostrando resultado\n",
        "print(f\"Meu RU: {ru}\")\n",
        "df_Neg.show()"
      ],
      "metadata": {
        "id": "qhsCmZhu1Dux",
        "colab": {
          "base_uri": "https://localhost:8080/"
        },
        "outputId": "a9ae09c4-1140-410b-e110-76df6e19aca9"
      },
      "execution_count": null,
      "outputs": [
        {
          "output_type": "stream",
          "name": "stdout",
          "text": [
            "Meu RU: 3727967\n",
            "+---+---------+\n",
            "| id|sentiment|\n",
            "+---+---------+\n",
            "|  1|      neg|\n",
            "|  2|      neg|\n",
            "|  3|      neg|\n",
            "|  4|      neg|\n",
            "|  5|      neg|\n",
            "|  6|      neg|\n",
            "|  7|      neg|\n",
            "|  8|      neg|\n",
            "|  9|      neg|\n",
            "| 10|      neg|\n",
            "| 11|      neg|\n",
            "| 12|      neg|\n",
            "| 13|      neg|\n",
            "| 14|      neg|\n",
            "| 15|      neg|\n",
            "| 16|      neg|\n",
            "| 17|      neg|\n",
            "| 18|      neg|\n",
            "| 19|      neg|\n",
            "| 20|      neg|\n",
            "+---+---------+\n",
            "only showing top 20 rows\n",
            "\n"
          ]
        }
      ]
    },
    {
      "cell_type": "code",
      "source": [
        "#somando a coluna id com base no sentiment neg.\n",
        "print(f\"Meu RU: {ru}\")\n",
        "total_neg = df_Neg.groupBy('sentiment').agg(sum('id').alias(\"Total_Id_Neg\")).orderBy('sentiment').where('sentiment == \"neg\" ')\n",
        "total_neg.show()"
      ],
      "metadata": {
        "id": "4g_nxqoAsWCy",
        "colab": {
          "base_uri": "https://localhost:8080/"
        },
        "outputId": "89c79046-4f38-4f12-92b9-78f33abe3b87"
      },
      "execution_count": null,
      "outputs": [
        {
          "output_type": "stream",
          "name": "stdout",
          "text": [
            "Meu RU: 3727967\n",
            "+---------+------------+\n",
            "|sentiment|Total_Id_Neg|\n",
            "+---------+------------+\n",
            "|      neg|   459568555|\n",
            "+---------+------------+\n",
            "\n"
          ]
        }
      ]
    },
    {
      "cell_type": "code",
      "source": [
        "#Pegando o valor da coluna Total_Id_Neg e printando resultado\n",
        "soma_neg = total_neg.select(col(\"Total_Id_Neg\")).first()[0]\n",
        "print(f'Meu RU: {ru}. Valor do somatorio dos ids negativos: {soma_neg}')"
      ],
      "metadata": {
        "id": "g859tz6qe-0c",
        "colab": {
          "base_uri": "https://localhost:8080/"
        },
        "outputId": "71bd2c30-7f76-4e8f-fb17-50d545f976e5"
      },
      "execution_count": null,
      "outputs": [
        {
          "output_type": "stream",
          "name": "stdout",
          "text": [
            "Meu RU: 3727967. Valor do somatorio dos ids negativos: 459568555\n"
          ]
        }
      ]
    },
    {
      "cell_type": "markdown",
      "source": [
        "# **O valor da soma do id com base no sentiment = neg é: 459568555**"
      ],
      "metadata": {
        "id": "bhdXGPf_33tN"
      }
    },
    {
      "cell_type": "markdown",
      "source": [
        "---"
      ],
      "metadata": {
        "id": "cQuBJCBaGRYa"
      }
    },
    {
      "cell_type": "markdown",
      "source": [
        "# **Prática 02 – Diferença do número de palavras totais de português para inglês dos textos negativos RU - 3727967**\n",
        "\n",
        "**Contar palavras dos textos negativos e achar diferença de quantidade.**"
      ],
      "metadata": {
        "id": "csvER0VBQq0z"
      }
    },
    {
      "cell_type": "code",
      "source": [
        "#selecionando a coluna desejada\n",
        "df_en = df.select('id','text_en','sentiment')\n",
        "df_pt = df.select('id','text_pt','sentiment')"
      ],
      "metadata": {
        "id": "d41EhuqpQqqo"
      },
      "execution_count": null,
      "outputs": []
    },
    {
      "cell_type": "code",
      "source": [
        "#filtrando o conjunto de dados para o sentiment = neg\n",
        "df_en = df_en.where('sentiment == \"neg\" ')\n",
        "df_pt = df_pt.where('sentiment == \"neg\" ')"
      ],
      "metadata": {
        "id": "8urZA2BrQqoN"
      },
      "execution_count": null,
      "outputs": []
    },
    {
      "cell_type": "code",
      "source": [
        "#removendo a coluna sentiment\n",
        "df_en = df_en.drop('sentiment')\n",
        "df_pt = df_pt.drop('sentiment')"
      ],
      "metadata": {
        "id": "I-C7MySuQqli"
      },
      "execution_count": null,
      "outputs": []
    },
    {
      "cell_type": "code",
      "source": [
        "print(f\"Meu RU: {ru}\")\n",
        "df_en.show()\n",
        "df_pt.show()"
      ],
      "metadata": {
        "id": "xvCZmnRcQqiW",
        "colab": {
          "base_uri": "https://localhost:8080/"
        },
        "outputId": "6383a60f-bcf5-41b7-b5a4-513a3b4dbd14"
      },
      "execution_count": null,
      "outputs": [
        {
          "output_type": "stream",
          "name": "stdout",
          "text": [
            "Meu RU: 3727967\n",
            "+---+--------------------+\n",
            "| id|             text_en|\n",
            "+---+--------------------+\n",
            "|  1|Once again Mr. Co...|\n",
            "|  2|This is an exampl...|\n",
            "|  3|First of all I ha...|\n",
            "|  4|Not even the Beat...|\n",
            "|  5|Brass pictures mo...|\n",
            "|  6|A funny thing hap...|\n",
            "|  7|This German horro...|\n",
            "|  8|Being a long-time...|\n",
            "|  9|\"Tokyo Eyes\" tell...|\n",
            "| 10|Wealthy horse ran...|\n",
            "| 11|Cage plays a drun...|\n",
            "| 12|First of all, I w...|\n",
            "| 13|So tell me - what...|\n",
            "| 14|A big disappointm...|\n",
            "| 15|This film is abso...|\n",
            "| 16|Heres a decidedly...|\n",
            "| 17|At the bottom end...|\n",
            "| 18|Earth has been de...|\n",
            "| 19|Many people are s...|\n",
            "| 20|New York family i...|\n",
            "+---+--------------------+\n",
            "only showing top 20 rows\n",
            "\n",
            "+---+--------------------+\n",
            "| id|             text_pt|\n",
            "+---+--------------------+\n",
            "|  1|Mais uma vez, o S...|\n",
            "|  2|Este é um exemplo...|\n",
            "|  3|Primeiro de tudo ...|\n",
            "|  4|Nem mesmo os Beat...|\n",
            "|  5|Filmes de fotos d...|\n",
            "|  6|Uma coisa engraça...|\n",
            "|  7|Este filme de ter...|\n",
            "|  8|Sendo um fã de lo...|\n",
            "|  9|\"Tokyo Eyes\" fala...|\n",
            "| 10|Fazendeiros ricos...|\n",
            "| 11|Cage interpreta u...|\n",
            "| 12|Primeiro de tudo,...|\n",
            "| 13|Então me diga - q...|\n",
            "| 14|Uma grande decepç...|\n",
            "| 15|Este filme é abso...|\n",
            "| 16|Heres um decidida...|\n",
            "| 17|Na parte inferior...|\n",
            "| 18|A terra foi destr...|\n",
            "| 19|Muitas pessoas es...|\n",
            "| 20|A família de Nova...|\n",
            "+---+--------------------+\n",
            "only showing top 20 rows\n",
            "\n"
          ]
        }
      ]
    },
    {
      "cell_type": "code",
      "source": [
        "# Usa as funções explode e split para dividir o texto em palavras\n",
        "palavras_pt = df_pt.select(\"id\", explode(split(\"text_pt\", \"[ ]+\")).alias(\"palavra\"))\n",
        "palavras_en = df_en.select(\"id\", explode(split(\"text_en\", \"[ ]+\")).alias(\"palavra\"))\n",
        "\n",
        "# Usa a função count para contar as ocorrências de cada palavra ordenando do maior para o menor\n",
        "contagem_pt = palavras_pt.groupBy(\"palavra\").count().orderBy(desc(\"count\"))\n",
        "contagem_en = palavras_en.groupBy(\"palavra\").count().orderBy(desc(\"count\"))\n",
        "\n",
        "# Mostra o resultado\n",
        "contagem_pt.show()\n",
        "contagem_en.show()"
      ],
      "metadata": {
        "id": "9b0Uz7BgHeD1",
        "colab": {
          "base_uri": "https://localhost:8080/"
        },
        "outputId": "2ee2929c-247d-412b-caa8-4bdeed4b0594"
      },
      "execution_count": null,
      "outputs": [
        {
          "output_type": "stream",
          "name": "stdout",
          "text": [
            "+-------+------+\n",
            "|palavra| count|\n",
            "+-------+------+\n",
            "|     de|209113|\n",
            "|    que|167678|\n",
            "|      e|137200|\n",
            "|      o|123049|\n",
            "|     um|107492|\n",
            "|      a|102794|\n",
            "|      é| 93327|\n",
            "|    não| 73713|\n",
            "|    uma| 64633|\n",
            "|   para| 64105|\n",
            "|     em| 63829|\n",
            "|  filme| 61801|\n",
            "|     do| 49849|\n",
            "|    com| 48684|\n",
            "|     eu| 37822|\n",
            "|     se| 37108|\n",
            "|   como| 36659|\n",
            "|     os| 36428|\n",
            "|    mas| 33143|\n",
            "|    por| 31171|\n",
            "+-------+------+\n",
            "only showing top 20 rows\n",
            "\n",
            "+-------+------+\n",
            "|palavra| count|\n",
            "+-------+------+\n",
            "|    the|265718|\n",
            "|      a|145812|\n",
            "|    and|131834|\n",
            "|     of|128764|\n",
            "|     to|127790|\n",
            "|     is| 91404|\n",
            "|     in| 76328|\n",
            "|      I| 69703|\n",
            "|   that| 61670|\n",
            "|   this| 60545|\n",
            "|     it| 53013|\n",
            "|    was| 48979|\n",
            "|    for| 38483|\n",
            "|   with| 37810|\n",
            "|     as| 35494|\n",
            "|    The| 34522|\n",
            "|  movie| 33879|\n",
            "|    but| 32892|\n",
            "|     on| 29428|\n",
            "|   have| 28906|\n",
            "+-------+------+\n",
            "only showing top 20 rows\n",
            "\n"
          ]
        }
      ]
    },
    {
      "cell_type": "code",
      "source": [
        "# Usa as funções explode e split para dividir o texto em palavras\n",
        "palavras_pt = df_pt.select(\"id\", explode(split(\"text_pt\", \"[ ]+\")).alias(\"palavra\"))\n",
        "palavras_en = df_en.select(\"id\", explode(split(\"text_en\", \"[ ]+\")).alias(\"palavra\"))\n",
        "\n",
        "# Usa a função count para contar as ocorrências de cada palavra ordenando do maior para o menor\n",
        "contagem_pt = palavras_pt.groupBy(\"palavra\").count().orderBy(desc(\"count\"))\n",
        "contagem_en = palavras_en.groupBy(\"palavra\").count().orderBy(desc(\"count\"))\n",
        "\n",
        "# Mostra o resultado\n",
        "contagem_pt.show()\n",
        "contagem_en.show()"
      ],
      "metadata": {
        "id": "zDwRu-pukwYr",
        "colab": {
          "base_uri": "https://localhost:8080/"
        },
        "outputId": "f98fa4bc-676a-462f-8c09-fbe2de2b1650"
      },
      "execution_count": null,
      "outputs": [
        {
          "output_type": "stream",
          "name": "stdout",
          "text": [
            "+-------+------+\n",
            "|palavra| count|\n",
            "+-------+------+\n",
            "|     de|209113|\n",
            "|    que|167678|\n",
            "|      e|137200|\n",
            "|      o|123049|\n",
            "|     um|107492|\n",
            "|      a|102794|\n",
            "|      é| 93327|\n",
            "|    não| 73713|\n",
            "|    uma| 64633|\n",
            "|   para| 64105|\n",
            "|     em| 63829|\n",
            "|  filme| 61801|\n",
            "|     do| 49849|\n",
            "|    com| 48684|\n",
            "|     eu| 37822|\n",
            "|     se| 37108|\n",
            "|   como| 36659|\n",
            "|     os| 36428|\n",
            "|    mas| 33143|\n",
            "|    por| 31171|\n",
            "+-------+------+\n",
            "only showing top 20 rows\n",
            "\n",
            "+-------+------+\n",
            "|palavra| count|\n",
            "+-------+------+\n",
            "|    the|265718|\n",
            "|      a|145812|\n",
            "|    and|131834|\n",
            "|     of|128764|\n",
            "|     to|127790|\n",
            "|     is| 91404|\n",
            "|     in| 76328|\n",
            "|      I| 69703|\n",
            "|   that| 61670|\n",
            "|   this| 60545|\n",
            "|     it| 53013|\n",
            "|    was| 48979|\n",
            "|    for| 38483|\n",
            "|   with| 37810|\n",
            "|     as| 35494|\n",
            "|    The| 34522|\n",
            "|  movie| 33879|\n",
            "|    but| 32892|\n",
            "|     on| 29428|\n",
            "|   have| 28906|\n",
            "+-------+------+\n",
            "only showing top 20 rows\n",
            "\n"
          ]
        }
      ]
    },
    {
      "cell_type": "code",
      "source": [
        "#Soma dos valores\n",
        "contagem_pt.agg(sum('count').alias(\"Total_palavras_pt\")).show()\n",
        "contagem_en.agg(sum('count').alias(\"Total_palavras_en\")).show()"
      ],
      "metadata": {
        "id": "iNmrIynuKbdT",
        "colab": {
          "base_uri": "https://localhost:8080/"
        },
        "outputId": "2c4e5289-0d5a-483e-a507-b3a1ca99f3fa"
      },
      "execution_count": null,
      "outputs": [
        {
          "output_type": "stream",
          "name": "stdout",
          "text": [
            "+-----------------+\n",
            "|Total_palavras_pt|\n",
            "+-----------------+\n",
            "|          5455273|\n",
            "+-----------------+\n",
            "\n",
            "+-----------------+\n",
            "|Total_palavras_en|\n",
            "+-----------------+\n",
            "|          5400276|\n",
            "+-----------------+\n",
            "\n"
          ]
        }
      ]
    },
    {
      "cell_type": "code",
      "source": [
        "#pegando os valores para fazer a subtração\n",
        "tot_pt = contagem_pt.agg(sum('count').alias(\"Total_palavras_pt\")).first()[0]   \n",
        "tot_en = contagem_en.agg(sum('count').alias(\"Total_palavras_en\")).first()[0]   "
      ],
      "metadata": {
        "id": "jv1H-TgqcbTN"
      },
      "execution_count": null,
      "outputs": []
    },
    {
      "cell_type": "code",
      "source": [
        "tot_pt, tot_en"
      ],
      "metadata": {
        "id": "4lPGg1IxOcJ6",
        "colab": {
          "base_uri": "https://localhost:8080/"
        },
        "outputId": "bfbfe339-18a7-495c-e117-069a18c93c06"
      },
      "execution_count": null,
      "outputs": [
        {
          "output_type": "execute_result",
          "data": {
            "text/plain": [
              "(5455273, 5400276)"
            ]
          },
          "metadata": {},
          "execution_count": 66
        }
      ]
    },
    {
      "cell_type": "code",
      "source": [
        "print(f'Meu RU: {ru}\". O texto em Portugues possui {tot_pt - tot_en} palavras a mais que o ingles')"
      ],
      "metadata": {
        "id": "fdCP9LRoC24U",
        "colab": {
          "base_uri": "https://localhost:8080/"
        },
        "outputId": "53b1b190-8efa-4f2b-ecb8-adb45e924619"
      },
      "execution_count": null,
      "outputs": [
        {
          "output_type": "stream",
          "name": "stdout",
          "text": [
            "Meu RU: 3727967\". O texto em Portugues possui 54997 palavras a mais que o ingles\n"
          ]
        }
      ]
    },
    {
      "cell_type": "markdown",
      "source": [
        "# **O texto em Portugues possui 54997 palavras a mais que o ingles**"
      ],
      "metadata": {
        "id": "2lHHdaEXpUip"
      }
    }
  ]
}